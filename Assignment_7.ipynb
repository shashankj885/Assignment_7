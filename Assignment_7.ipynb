{
 "cells": [
  {
   "cell_type": "markdown",
   "id": "10bab9e9",
   "metadata": {},
   "source": [
    "Ans- 1 RegEx Module"
   ]
  },
  {
   "cell_type": "markdown",
   "id": "6982febb",
   "metadata": {},
   "source": [
    "Ans2- Row string notation (r\"text\") keeps regular expressions meaningful and confusion-free. Without it, every backslash ('\\') in a regular expression would have to be prefixed with another one to escape it."
   ]
  },
  {
   "cell_type": "markdown",
   "id": "cbc291ad",
   "metadata": {},
   "source": [
    "Ans3-The index (position) of the first match."
   ]
  },
  {
   "cell_type": "markdown",
   "id": "8d874eab",
   "metadata": {},
   "source": [
    "Ans4-Match objects have a group() method that will return the actual matched text from the searched string."
   ]
  },
  {
   "cell_type": "markdown",
   "id": "00ed5799",
   "metadata": {},
   "source": [
    "Ans5-"
   ]
  },
  {
   "cell_type": "code",
   "execution_count": 4,
   "id": "45b9068a",
   "metadata": {},
   "outputs": [
    {
     "name": "stdout",
     "output_type": "stream",
     "text": [
      "945-000-4975\n"
     ]
    }
   ],
   "source": [
    "import re\n",
    "phoneNumRegex = re.compile(r'(\\d\\d\\d)-(\\d\\d\\d-\\d\\d\\d\\d)')\n",
    "mo = phoneNumRegex.search('My number is 945-000-4975.')\n",
    "print(mo.group(0))"
   ]
  },
  {
   "cell_type": "code",
   "execution_count": 3,
   "id": "b5469219",
   "metadata": {},
   "outputs": [
    {
     "name": "stdout",
     "output_type": "stream",
     "text": [
      "000-4975\n"
     ]
    }
   ],
   "source": [
    "import re\n",
    "phoneNumRegex = re.compile(r'(\\d\\d\\d)-(\\d\\d\\d-\\d\\d\\d\\d)')\n",
    "mo = phoneNumRegex.search('My number is 945-000-4975.')\n",
    "print(mo.group(2))"
   ]
  },
  {
   "cell_type": "code",
   "execution_count": 5,
   "id": "aff01913",
   "metadata": {},
   "outputs": [
    {
     "name": "stdout",
     "output_type": "stream",
     "text": [
      "945\n"
     ]
    }
   ],
   "source": [
    "import re\n",
    "phoneNumRegex = re.compile(r'(\\d\\d\\d)-(\\d\\d\\d-\\d\\d\\d\\d)')\n",
    "mo = phoneNumRegex.search('My number is 945-000-4975.')\n",
    "print(mo.group(1))"
   ]
  },
  {
   "cell_type": "markdown",
   "id": "83bc42cb",
   "metadata": {},
   "source": [
    "Ans6-Periods and parentheses can be escaped with a backslash: \\ ., \\ (, and \\ )."
   ]
  },
  {
   "cell_type": "markdown",
   "id": "f397e0b2",
   "metadata": {},
   "source": [
    "Ans7-If the regex has no groups, a list of strings is returned. If the regex has groups, a list of tuples of strings is returned."
   ]
  },
  {
   "cell_type": "markdown",
   "id": "5151de9a",
   "metadata": {},
   "source": [
    "Ans8-The | character signifies matching “either, or” between two groups."
   ]
  },
  {
   "cell_type": "markdown",
   "id": "593a4cb0",
   "metadata": {},
   "source": [
    "Ans9-A character set is indicated by enclosing a set of characters in brackets ([ and ]). For instance, the character set [abz] will match any of the characters a, b, or z, or a combination of these such as ab, za, or baz."
   ]
  },
  {
   "cell_type": "markdown",
   "id": "9bf2da18",
   "metadata": {},
   "source": [
    "Ans10-the star quantifier( * ) means that the preceding expression can match zero or more times it is like {0,} while the plus quantifier( + ) indicate that the preceding expression MUST match at least one time or multiple times and it is the same as {1,} .\n",
    "\n",
    "\n",
    "a*  --- a{0,}  --- Match a or aa or aaaaa or an empty string\n",
    "a+  ---na{1,}  --- Match a or aa or aaaa but not a string empty"
   ]
  },
  {
   "cell_type": "markdown",
   "id": "e52ed341",
   "metadata": {},
   "source": [
    "Ans11-The {4} matches exactly three instances of the preceding group. The {4,5} matches between four and five instances."
   ]
  },
  {
   "cell_type": "markdown",
   "id": "b8bf6d38",
   "metadata": {},
   "source": [
    "Ans12-The \\d, \\w, and \\s shorthand character classes match a single digit, word, or space character, respectively.\n",
    "\n"
   ]
  },
  {
   "cell_type": "markdown",
   "id": "bae6c2ea",
   "metadata": {},
   "source": [
    "Ans13-The \\D, \\W, and \\S shorthand character classes match a single character that is not a digit, word, or space character, respectively"
   ]
  },
  {
   "cell_type": "markdown",
   "id": "0af0ba56",
   "metadata": {},
   "source": [
    "Ans14-Repetition in regex by default is greedy: they try to match as many reps as possible, and when this doesn't work and they have to backtrack, they try to match one fewer rep at a time, until a match of the whole pattern is found. As a result, when a match finally happens, a greedy repetition would match as many reps as possible.\n",
    "\n",
    "The ? as a repetition quantifier changes this behavior into non-greedy, also called reluctant (and sometimes \"lazy\"). In contrast, this repetition will first try to match as few reps as possible, and when this doesn't work and they have to backtrack, they start matching one more rept a time. As a result, when a match finally happens, a reluctant repetition would match as few reps as possible.\n",
    "\n",
    "Ex - for eeeAiiZuuuuAoooZeeee\n",
    "\n",
    "A.*Z yields 1 match: AiiZuuuuAoooZ and   \n",
    "A.*?Z yields 2 matches: AiiZ and AoooZ "
   ]
  },
  {
   "cell_type": "markdown",
   "id": "8348eea5",
   "metadata": {},
   "source": [
    "Ans15-Either [0-9a-z] or [a-z0-9]"
   ]
  },
  {
   "cell_type": "markdown",
   "id": "54de96ac",
   "metadata": {},
   "source": [
    "Ans16- re.IGNORECASE"
   ]
  },
  {
   "cell_type": "markdown",
   "id": "8cd5d856",
   "metadata": {},
   "source": [
    "Ans17 The . character normally matches any character except the newline character. If re.DOTALL is passed as the second argument to re.compile(), then the dot will also match newline characters."
   ]
  },
  {
   "cell_type": "markdown",
   "id": "429e9928",
   "metadata": {},
   "source": [
    "Ans18-Sub() returns a string where all matching occurrences of the specified pattern are replaced by the replace string.\n",
    "\n",
    " 'X drummers, X pipers, five rings, X hens'"
   ]
  },
  {
   "cell_type": "markdown",
   "id": "4afab6a4",
   "metadata": {},
   "source": [
    "Ans19-The re.VERBOSE argument allows you to add whitespace and comments to the string passed to re.compile()"
   ]
  },
  {
   "cell_type": "markdown",
   "id": "aeba1523",
   "metadata": {},
   "source": [
    "Ans20-e.compile(r'^\\d{1,3}(,{3})*$')"
   ]
  },
  {
   "cell_type": "markdown",
   "id": "fd2aa6e0",
   "metadata": {},
   "source": [
    "Ans21-re.compile(r'[A-Z][a-z]*\\sWatanabe')"
   ]
  },
  {
   "cell_type": "markdown",
   "id": "fe93d9df",
   "metadata": {},
   "source": [
    "Ans22-re.compile(r'(Alice|Bob|Carol)\\s(eats|pets|throws)\\ s(apples|cats|baseballs)\\.', re.IGNORECASE)"
   ]
  },
  {
   "cell_type": "markdown",
   "id": "1968d436",
   "metadata": {},
   "source": []
  }
 ],
 "metadata": {
  "kernelspec": {
   "display_name": "Python 3 (ipykernel)",
   "language": "python",
   "name": "python3"
  },
  "language_info": {
   "codemirror_mode": {
    "name": "ipython",
    "version": 3
   },
   "file_extension": ".py",
   "mimetype": "text/x-python",
   "name": "python",
   "nbconvert_exporter": "python",
   "pygments_lexer": "ipython3",
   "version": "3.9.12"
  }
 },
 "nbformat": 4,
 "nbformat_minor": 5
}
